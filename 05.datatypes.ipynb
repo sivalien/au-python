{
 "cells": [
  {
   "cell_type": "markdown",
   "metadata": {},
   "source": [
    "# От множества к пространству\n",
    "\n",
    "Чем «пространство» отличается от «множества»? Если совсем на пальцах. Тем, что над его элементами определены операции. Соответственно, если мы просто «напишем» класс, то определим тип данных, элемент множества. А если реализуем для него операции — определим пространство.\n",
    "\n",
    "Тяжело найти что-то, чего нет в стандартной библиотеке. А тем более во внешних...\n",
    "\n",
    "![](https://imgs.xkcd.com/comics/python.png)\n",
    "\n",
    "Давайте считать, что кольцо многочленов не реализовано. А ведь полезная вещь! А как его реализовать? А очень просто: [вот тут всё написано](https://docs.python.org/3.7/reference/datamodel.html#emulating-numeric-types)!"
   ]
  },
  {
   "cell_type": "code",
   "execution_count": 3,
   "metadata": {},
   "outputs": [],
   "source": [
    "class QuotientRingError(ValueError):\n",
    "    pass\n",
    "\n",
    "\n",
    "class QuotientRing:\n",
    "    \"\"\" \"\"\"\n",
    "    \n",
    "    def __init__(self, arg: 'int|QuotientRing' = 0, mod: 'int' = None):\n",
    "        \"\"\"\n",
    "        \"\"\"\n",
    "        if isinstance(arg, QuotientRing):\n",
    "            self.n = arg.n\n",
    "            self.mod = arg.mod\n",
    "        elif isinstance(arg, int):\n",
    "            if mod != None:\n",
    "                self.n = arg % mod\n",
    "                self.mod = mod\n",
    "            else:\n",
    "                raise QuotientRingError(\"Modulo not specified\")\n",
    "        else:\n",
    "            raise QuotientRingError(\"You are trying to create QuotientRing from \" + repr(arg))\n",
    "        \n",
    "    def __str__(self) -> 'str':\n",
    "        return str(self.n)\n",
    "    \n",
    "    def __eq__(self, other: 'QuotientRing|int') -> 'bool':\n",
    "        if isinstance(other, QuotientRing):\n",
    "            return self.n == other.n\n",
    "        elif isinstance(other, int):\n",
    "            return self.n == (other % self.mod)\n",
    "        else:\n",
    "            raise QuotientRingError(\"Can't say if QuotientRing is equal to \" + str(type(other)))\n",
    "        \n",
    "    \n",
    "    def __add__(self, other: 'QuotientRing|int') -> 'QuotientRing':\n",
    "        if isinstance(other, QuotientRing):\n",
    "            return QuotientRing((self.n + other.n) % self.mod, self.mod)\n",
    "        elif isinstance(other, int):\n",
    "            return QuotientRing((self.n + other) % self.mod, self.mod)\n",
    "        else:\n",
    "            raise QuotientRingError(\"Can't add not QuotientRing \" + str(type(other)))\n",
    "           \n",
    "    def __radd__(self, other: 'QuotientRing|int') -> 'QuotientRing':\n",
    "        return self.__add__(other)  # Коммутативность\n",
    "\n",
    "    \n",
    "    def __neg__(self) -> 'QuotientRing':\n",
    "        return QuotientRing(-self.n % self.mod, self.mod)\n",
    "\n",
    "    \n",
    "    def __sub__(self, other: 'QuotientRing|int') -> 'QuotientRing':\n",
    "        if isinstance(other, QuotientRing):\n",
    "            return self.__add__(other.__neg__())\n",
    "        elif isinstance(other, int):\n",
    "            return self.__add__(QuotientRing(other, self.mod).__neg__())\n",
    "        else:\n",
    "            raise QuotientRingError(\"You are trying to subtract not QuotientRing \" + str(type(other)))\n",
    "    \n",
    "    def __rsub__(self, other: 'QuotientRing|int') -> 'QuotientRing':\n",
    "        return self.__neg__().__add__(other)\n",
    "\n",
    "    \n",
    "    def __mul__(self, other: 'QuotientRing|int') -> 'QuotientRing':\n",
    "        if isinstance(other, QuotientRing):\n",
    "            return QuotientRing((self.n * other.n) % self.mod, self.mod)\n",
    "        elif isinstance(other, int):\n",
    "            return QuotientRing((self.n * other) % self.mod, self.mod)\n",
    "        else:\n",
    "            raise QuotientRingError(\"Can't add multipy QuotientRing by \" + str(type(other)))\n",
    "        \n",
    "        \n",
    "    def __rmul__(self, other: 'QuotientRing|int') -> 'QuotientRing':\n",
    "        return self.__mul__(other)"
   ]
  },
  {
   "cell_type": "markdown",
   "metadata": {},
   "source": [
    "Ну а теперь давайте посмотрим его в деле!"
   ]
  },
  {
   "cell_type": "code",
   "execution_count": 5,
   "metadata": {},
   "outputs": [
    {
     "name": "stdout",
     "output_type": "stream",
     "text": [
      "0\n",
      "3\n",
      "1\n",
      "3\n",
      "False\n",
      "True\n",
      "1\n"
     ]
    }
   ],
   "source": [
    "Z0 = QuotientRing(0, 5)\n",
    "Z1 = QuotientRing(1, 5)\n",
    "Z2 = QuotientRing(2, 5)\n",
    "Z4 = QuotientRing(4, 5)\n",
    "\n",
    "print(Z0 * Z4)\n",
    "print(Z2 * Z4)\n",
    "print(Z2 + Z4)\n",
    "print(Z2 - Z4)\n",
    "print(Z1 == Z4)\n",
    "print(Z2 * Z2 == Z4)\n",
    "print(Z4 * 4)"
   ]
  },
  {
   "cell_type": "markdown",
   "metadata": {},
   "source": [
    "## Задание\n",
    "\n",
    "Придумать и реализовать какой-нибудь свой тип данных с операциями. Вот идеи:\n",
    "\n",
    "* числа по модулю;\n",
    "* обычные числа, но с ошибками при вычислениях;\n",
    "* [кватеринионы](https://en.wikipedia.org/wiki/Quaternion);\n",
    "* можно матрицы (в т.ч. вектора) — они и так в NumPy есть, но всё равно же интересно;\n",
    "* да тот же многочлен, но при помощи [`defaultdict`](https://docs.python.org/3.7/library/collections.html#collections.defaultdict) — ему не повредит;\n",
    "* что угодно на свой вкус, над чем можно определить арифметику или её подобие."
   ]
  },
  {
   "cell_type": "code",
   "execution_count": null,
   "metadata": {},
   "outputs": [],
   "source": []
  }
 ],
 "metadata": {
  "kernelspec": {
   "display_name": "Python 3",
   "language": "python",
   "name": "python3"
  },
  "language_info": {
   "codemirror_mode": {
    "name": "ipython",
    "version": 3
   },
   "file_extension": ".py",
   "mimetype": "text/x-python",
   "name": "python",
   "nbconvert_exporter": "python",
   "pygments_lexer": "ipython3",
   "version": "3.7.0"
  }
 },
 "nbformat": 4,
 "nbformat_minor": 2
}
