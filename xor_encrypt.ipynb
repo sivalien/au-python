{
 "cells": [
  {
   "cell_type": "code",
   "execution_count": 76,
   "metadata": {},
   "outputs": [
    {
     "name": "stdout",
     "output_type": "stream",
     "text": [
      "c.png\n",
      "key\n"
     ]
    }
   ],
   "source": [
    "def encrypt(res, key):\n",
    "    file.seek(0)\n",
    "    for i in range(len(res)):\n",
    "        res[i] = res[i] ^ key[i % len(key)]\n",
    "    return (bytes(res))\n",
    "\n",
    "name = input()\n",
    "key = bytearray(input().encode())\n",
    "\n",
    "file = open(name, 'rb+')\n",
    "file.write(encrypt(bytearray(file.read()), key))\n",
    "file.close()"
   ]
  },
  {
   "cell_type": "code",
   "execution_count": null,
   "metadata": {},
   "outputs": [],
   "source": []
  }
 ],
 "metadata": {
  "kernelspec": {
   "display_name": "Python 3",
   "language": "python",
   "name": "python3"
  },
  "language_info": {
   "codemirror_mode": {
    "name": "ipython",
    "version": 3
   },
   "file_extension": ".py",
   "mimetype": "text/x-python",
   "name": "python",
   "nbconvert_exporter": "python",
   "pygments_lexer": "ipython3",
   "version": "3.6.8"
  }
 },
 "nbformat": 4,
 "nbformat_minor": 2
}
